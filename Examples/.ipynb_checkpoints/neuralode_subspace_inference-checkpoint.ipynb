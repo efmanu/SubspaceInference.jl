{
 "cells": [
  {
   "cell_type": "markdown",
   "id": "unknown-admission",
   "metadata": {},
   "source": [
    "# Subspace Inference for Neural Ordinary Differential Equations\n",
    "\n",
    "Any non linear system can be modelled by using 3 methods: direct modelling, ordinary differential equations and machine learning. In direct modelling the compe"
   ]
  }
 ],
 "metadata": {
  "kernelspec": {
   "display_name": "Julia 1.6.0-beta1",
   "language": "julia",
   "name": "julia-1.6"
  },
  "language_info": {
   "file_extension": ".jl",
   "mimetype": "application/julia",
   "name": "julia",
   "version": "1.6.0"
  }
 },
 "nbformat": 4,
 "nbformat_minor": 5
}
