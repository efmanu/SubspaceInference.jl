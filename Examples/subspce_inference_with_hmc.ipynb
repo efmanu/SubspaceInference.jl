{
 "cells": [
  {
   "cell_type": "markdown",
   "metadata": {},
   "source": [
    "# Subspace Inference with Advanced MH Sampler\n",
    "\n",
    "### use packages"
   ]
  },
  {
   "cell_type": "code",
   "execution_count": 1,
   "metadata": {},
   "outputs": [
    {
     "name": "stderr",
     "output_type": "stream",
     "text": [
      "┌ Info: Precompiling SubspaceInference [706446a6-0e85-4c47-b731-c658bbb72625]\n",
      "└ @ Base loading.jl:1278\n",
      "┌ Warning: Package SubspaceInference does not have AdvancedHMC in its dependencies:\n",
      "│ - If you have SubspaceInference checked out for development and have\n",
      "│   added AdvancedHMC as a dependency but haven't updated your primary\n",
      "│   environment's manifest file, try `Pkg.resolve()`.\n",
      "│ - Otherwise you may need to report an issue with SubspaceInference\n",
      "└ Loading AdvancedHMC into SubspaceInference from project dependency, future warnings for SubspaceInference are suppressed.\n"
     ]
    }
   ],
   "source": [
    "using NPZ\n",
    "using Flux\n",
    "using Flux: Data.DataLoader\n",
    "using Flux: @epochs\n",
    "using BSON: @save\n",
    "using BSON: @load\n",
    "using PyPlot\n",
    "using SubspaceInference;\n",
    "using Zygote;"
   ]
  },
  {
   "cell_type": "markdown",
   "metadata": {},
   "source": [
    "### Set working directory"
   ]
  },
  {
   "cell_type": "code",
   "execution_count": 2,
   "metadata": {},
   "outputs": [],
   "source": [
    "root = pwd();\n",
    "cd(root);"
   ]
  },
  {
   "cell_type": "markdown",
   "metadata": {},
   "source": [
    "### Load Data and Format"
   ]
  },
  {
   "cell_type": "code",
   "execution_count": 3,
   "metadata": {},
   "outputs": [],
   "source": [
    "data_ld = npzread(\"data.npy\");\n",
    "x, y = (data_ld[:, 1]', data_ld[:, 2]');\n",
    "function features(x)\n",
    "    return vcat(x./2, (x./2).^2)\n",
    "end\n",
    "\n",
    "f = features(x);\n",
    "data =  DataLoader(f,y, batchsize=50, shuffle=true);"
   ]
  },
  {
   "cell_type": "markdown",
   "metadata": {},
   "source": [
    "### Setup NN model"
   ]
  },
  {
   "cell_type": "code",
   "execution_count": 4,
   "metadata": {},
   "outputs": [],
   "source": [
    "m = Chain(\n",
    "\tDense(2,200,Flux.relu), \n",
    "\tDense(200,50,Flux.relu),\n",
    "\tDense(50,50,Flux.relu),\n",
    "\tDense(50,50,Flux.relu),\n",
    "\tDense(50,1),\n",
    ")\n",
    "\n",
    "\n",
    "θ, re = Flux.destructure(m);\n",
    "\n",
    "L(m, x, y) = Flux.Losses.mse(m(x), y)/2;\n",
    "ps = Flux.params(m);\n",
    "opt = Momentum(0.01, 0.95);"
   ]
  },
  {
   "cell_type": "markdown",
   "metadata": {},
   "source": [
    "### Pretrain model"
   ]
  },
  {
   "cell_type": "code",
   "execution_count": 5,
   "metadata": {},
   "outputs": [],
   "source": [
    "## update cost function to suite for flux training\n",
    "#L(x, y) = Flux.Losses.mse(m(x), y)/2;\n",
    "#@epochs 3000 Flux.train!(L, ps, data, opt)"
   ]
  },
  {
   "cell_type": "markdown",
   "metadata": {},
   "source": [
    "This notebook, we are using a pretrained model"
   ]
  },
  {
   "cell_type": "code",
   "execution_count": 6,
   "metadata": {},
   "outputs": [],
   "source": [
    "i = 1;\n",
    "@load \"model_weights_$(i).bson\" ps;\n",
    "Flux.loadparams!(m, ps);"
   ]
  },
  {
   "cell_type": "markdown",
   "metadata": {},
   "source": [
    "### Run subspace inference"
   ]
  },
  {
   "cell_type": "code",
   "execution_count": null,
   "metadata": {},
   "outputs": [
    {
     "name": "stdout",
     "output_type": "stream",
     "text": [
      "Traing loss: 0.0010804259589564413 Epoch: 5\n",
      "Traing loss: 0.0008566155858883028 Epoch: 10\n",
      "Traing loss: 0.0007709339848581731 Epoch: 15\n",
      "Traing loss: 0.0013931469772947836 Epoch: 20\n"
     ]
    }
   ],
   "source": [
    "M = 20\n",
    "T = 25\n",
    "c = 1\n",
    "itr = 10_00\n",
    "\n",
    "chn, lp, W_swa, re = SubspaceInference.subspace_inference(m, L, data, opt,\n",
    "\tσ_z = 1.0,\tσ_m = 1.0, σ_p = 1.0,\n",
    "\titr =itr, T=T, c=c, M=M, print_freq=1, alg =:hmc\n",
    ");"
   ]
  },
  {
   "cell_type": "markdown",
   "metadata": {},
   "source": [
    "### Plot Uncertainty"
   ]
  },
  {
   "cell_type": "code",
   "execution_count": null,
   "metadata": {},
   "outputs": [],
   "source": [
    "ns = length(chn)\n",
    "z = collect(range(-10.0, 10.0,length = 100))\n",
    "inp = features(z')\n",
    "trajectories = Array{Float64}(undef,100,ns)\n",
    "for i in 1:ns\n",
    "\tmn = re(chn[i])\n",
    "\tout = mn(inp)\n",
    "\ttrajectories[:, i] = out'\n",
    "end\n",
    "\n",
    "mx = maximum(trajectories, dims=2)\n",
    "mn = minimum(trajectories, dims=2)\n",
    "val, loc = findmax(lp)\n",
    "max_log = trajectories[:,loc]\n",
    "(fig, f_axes) = PyPlot.subplots(ncols=1, nrows=1)\n",
    "f_axes.scatter(data_ld[:,1],data_ld[:,2], c=\"red\", marker=\".\")\n",
    "f_axes.plot(z,vec(mx), c=\"blue\") #maximum values\n",
    "f_axes.plot(z,vec(mn), c=\"green\") #minimum values\n",
    "f_axes.plot(z,vec(max_log), c=\"darkorange\") #maximum log probability\n",
    "f_axes.fill_between(z, vec(mx), vec(mn), alpha=0.5)\n",
    "f_axes.set_title(\"Subspace: 20\")\n",
    "fig.show()"
   ]
  }
 ],
 "metadata": {
  "kernelspec": {
   "display_name": "Julia 1.5.3",
   "language": "julia",
   "name": "julia-1.5"
  },
  "language_info": {
   "file_extension": ".jl",
   "mimetype": "application/julia",
   "name": "julia",
   "version": "1.5.3"
  }
 },
 "nbformat": 4,
 "nbformat_minor": 2
}
